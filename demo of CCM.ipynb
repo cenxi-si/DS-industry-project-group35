{
 "cells": [
  {
   "cell_type": "markdown",
   "id": "81c32c50",
   "metadata": {},
   "source": [
    "# Fit Convergent Cross Mapping Model to Data Sets"
   ]
  },
  {
   "cell_type": "code",
   "execution_count": 1,
   "id": "85e2b8c3",
   "metadata": {},
   "outputs": [],
   "source": [
    "import pandas as pd\n",
    "import numpy as np\n",
    "import skccm as ccm\n",
    "import matplotlib.pyplot as plt\n",
    "import seaborn as sns\n",
    "from skccm.utilities import train_test_split\n",
    "from teaspoon.parameter_selection.FNN_n import FNN_n"
   ]
  },
  {
   "cell_type": "code",
   "execution_count": 232,
   "id": "b165d00c",
   "metadata": {},
   "outputs": [
    {
     "data": {
      "text/html": [
       "<div>\n",
       "<style scoped>\n",
       "    .dataframe tbody tr th:only-of-type {\n",
       "        vertical-align: middle;\n",
       "    }\n",
       "\n",
       "    .dataframe tbody tr th {\n",
       "        vertical-align: top;\n",
       "    }\n",
       "\n",
       "    .dataframe thead th {\n",
       "        text-align: right;\n",
       "    }\n",
       "</style>\n",
       "<table border=\"1\" class=\"dataframe\">\n",
       "  <thead>\n",
       "    <tr style=\"text-align: right;\">\n",
       "      <th></th>\n",
       "      <th></th>\n",
       "      <th>misogyny_proportion</th>\n",
       "      <th>alcohol_counts</th>\n",
       "      <th>crime_counts</th>\n",
       "      <th>crime_proportion</th>\n",
       "    </tr>\n",
       "    <tr>\n",
       "      <th>year</th>\n",
       "      <th>month</th>\n",
       "      <th></th>\n",
       "      <th></th>\n",
       "      <th></th>\n",
       "      <th></th>\n",
       "    </tr>\n",
       "  </thead>\n",
       "  <tbody>\n",
       "    <tr>\n",
       "      <th rowspan=\"10\" valign=\"top\">2012</th>\n",
       "      <th>1</th>\n",
       "      <td>0.000129</td>\n",
       "      <td>82.83</td>\n",
       "      <td>41.0</td>\n",
       "      <td>0.000053</td>\n",
       "    </tr>\n",
       "    <tr>\n",
       "      <th>2</th>\n",
       "      <td>0.000042</td>\n",
       "      <td>82.83</td>\n",
       "      <td>46.0</td>\n",
       "      <td>0.000070</td>\n",
       "    </tr>\n",
       "    <tr>\n",
       "      <th>3</th>\n",
       "      <td>0.000041</td>\n",
       "      <td>82.83</td>\n",
       "      <td>47.0</td>\n",
       "      <td>0.000071</td>\n",
       "    </tr>\n",
       "    <tr>\n",
       "      <th>4</th>\n",
       "      <td>0.000117</td>\n",
       "      <td>82.83</td>\n",
       "      <td>46.0</td>\n",
       "      <td>0.000077</td>\n",
       "    </tr>\n",
       "    <tr>\n",
       "      <th>5</th>\n",
       "      <td>0.000122</td>\n",
       "      <td>82.83</td>\n",
       "      <td>63.0</td>\n",
       "      <td>0.000071</td>\n",
       "    </tr>\n",
       "    <tr>\n",
       "      <th>6</th>\n",
       "      <td>0.000027</td>\n",
       "      <td>82.83</td>\n",
       "      <td>47.0</td>\n",
       "      <td>0.000052</td>\n",
       "    </tr>\n",
       "    <tr>\n",
       "      <th>7</th>\n",
       "      <td>0.000037</td>\n",
       "      <td>82.83</td>\n",
       "      <td>65.0</td>\n",
       "      <td>0.000072</td>\n",
       "    </tr>\n",
       "    <tr>\n",
       "      <th>8</th>\n",
       "      <td>0.000060</td>\n",
       "      <td>82.83</td>\n",
       "      <td>52.0</td>\n",
       "      <td>0.000066</td>\n",
       "    </tr>\n",
       "    <tr>\n",
       "      <th>11</th>\n",
       "      <td>0.000020</td>\n",
       "      <td>82.83</td>\n",
       "      <td>29.0</td>\n",
       "      <td>0.000056</td>\n",
       "    </tr>\n",
       "    <tr>\n",
       "      <th>12</th>\n",
       "      <td>0.000048</td>\n",
       "      <td>82.83</td>\n",
       "      <td>40.0</td>\n",
       "      <td>0.000050</td>\n",
       "    </tr>\n",
       "    <tr>\n",
       "      <th rowspan=\"6\" valign=\"top\">2013</th>\n",
       "      <th>3</th>\n",
       "      <td>0.000044</td>\n",
       "      <td>87.82</td>\n",
       "      <td>44.0</td>\n",
       "      <td>0.000072</td>\n",
       "    </tr>\n",
       "    <tr>\n",
       "      <th>4</th>\n",
       "      <td>0.000031</td>\n",
       "      <td>87.82</td>\n",
       "      <td>47.0</td>\n",
       "      <td>0.000049</td>\n",
       "    </tr>\n",
       "    <tr>\n",
       "      <th>7</th>\n",
       "      <td>0.000026</td>\n",
       "      <td>87.82</td>\n",
       "      <td>82.0</td>\n",
       "      <td>0.000056</td>\n",
       "    </tr>\n",
       "    <tr>\n",
       "      <th>8</th>\n",
       "      <td>0.000025</td>\n",
       "      <td>87.82</td>\n",
       "      <td>59.0</td>\n",
       "      <td>0.000063</td>\n",
       "    </tr>\n",
       "    <tr>\n",
       "      <th>9</th>\n",
       "      <td>0.000029</td>\n",
       "      <td>87.82</td>\n",
       "      <td>53.0</td>\n",
       "      <td>0.000068</td>\n",
       "    </tr>\n",
       "    <tr>\n",
       "      <th>11</th>\n",
       "      <td>0.000029</td>\n",
       "      <td>87.82</td>\n",
       "      <td>35.0</td>\n",
       "      <td>0.000061</td>\n",
       "    </tr>\n",
       "    <tr>\n",
       "      <th>2014</th>\n",
       "      <th>6</th>\n",
       "      <td>0.000020</td>\n",
       "      <td>89.55</td>\n",
       "      <td>50.0</td>\n",
       "      <td>0.000050</td>\n",
       "    </tr>\n",
       "    <tr>\n",
       "      <th rowspan=\"3\" valign=\"top\">2015</th>\n",
       "      <th>4</th>\n",
       "      <td>0.000164</td>\n",
       "      <td>93.05</td>\n",
       "      <td>120.0</td>\n",
       "      <td>0.000070</td>\n",
       "    </tr>\n",
       "    <tr>\n",
       "      <th>6</th>\n",
       "      <td>0.000045</td>\n",
       "      <td>93.05</td>\n",
       "      <td>92.0</td>\n",
       "      <td>0.000075</td>\n",
       "    </tr>\n",
       "    <tr>\n",
       "      <th>10</th>\n",
       "      <td>0.000047</td>\n",
       "      <td>93.05</td>\n",
       "      <td>107.0</td>\n",
       "      <td>0.000069</td>\n",
       "    </tr>\n",
       "  </tbody>\n",
       "</table>\n",
       "</div>"
      ],
      "text/plain": [
       "            misogyny_proportion  alcohol_counts  crime_counts  \\\n",
       "year month                                                      \n",
       "2012 1                 0.000129           82.83          41.0   \n",
       "     2                 0.000042           82.83          46.0   \n",
       "     3                 0.000041           82.83          47.0   \n",
       "     4                 0.000117           82.83          46.0   \n",
       "     5                 0.000122           82.83          63.0   \n",
       "     6                 0.000027           82.83          47.0   \n",
       "     7                 0.000037           82.83          65.0   \n",
       "     8                 0.000060           82.83          52.0   \n",
       "     11                0.000020           82.83          29.0   \n",
       "     12                0.000048           82.83          40.0   \n",
       "2013 3                 0.000044           87.82          44.0   \n",
       "     4                 0.000031           87.82          47.0   \n",
       "     7                 0.000026           87.82          82.0   \n",
       "     8                 0.000025           87.82          59.0   \n",
       "     9                 0.000029           87.82          53.0   \n",
       "     11                0.000029           87.82          35.0   \n",
       "2014 6                 0.000020           89.55          50.0   \n",
       "2015 4                 0.000164           93.05         120.0   \n",
       "     6                 0.000045           93.05          92.0   \n",
       "     10                0.000047           93.05         107.0   \n",
       "\n",
       "            crime_proportion  \n",
       "year month                    \n",
       "2012 1              0.000053  \n",
       "     2              0.000070  \n",
       "     3              0.000071  \n",
       "     4              0.000077  \n",
       "     5              0.000071  \n",
       "     6              0.000052  \n",
       "     7              0.000072  \n",
       "     8              0.000066  \n",
       "     11             0.000056  \n",
       "     12             0.000050  \n",
       "2013 3              0.000072  \n",
       "     4              0.000049  \n",
       "     7              0.000056  \n",
       "     8              0.000063  \n",
       "     9              0.000068  \n",
       "     11             0.000061  \n",
       "2014 6              0.000050  \n",
       "2015 4              0.000070  \n",
       "     6              0.000075  \n",
       "     10             0.000069  "
      ]
     },
     "execution_count": 232,
     "metadata": {},
     "output_type": "execute_result"
    }
   ],
   "source": [
    "data = pd.read_csv('./data/merged_data.csv',index_col=0)\n",
    "data = data.sort_values(by=['year','month'],ascending=[True, True])\n",
    "#data = data[data['USstate']=='ar']\n",
    "data = data.groupby(['year','month']).sum()\n",
    "data"
   ]
  },
  {
   "cell_type": "markdown",
   "id": "7379c2b7",
   "metadata": {},
   "source": [
    "## 0. Extract data"
   ]
  },
  {
   "cell_type": "code",
   "execution_count": 228,
   "id": "bbc0e3a9",
   "metadata": {},
   "outputs": [],
   "source": [
    "x1_alcohol = data['alcohol_counts'].to_numpy()\n",
    "x2_crime = data['crime_proportion'].to_numpy()\n",
    "x3_tweets = data['misogyny_proportion'].to_numpy()"
   ]
  },
  {
   "cell_type": "code",
   "execution_count": 229,
   "id": "4d2d83cf",
   "metadata": {},
   "outputs": [
    {
     "data": {
      "text/html": [
       "<div>\n",
       "<style scoped>\n",
       "    .dataframe tbody tr th:only-of-type {\n",
       "        vertical-align: middle;\n",
       "    }\n",
       "\n",
       "    .dataframe tbody tr th {\n",
       "        vertical-align: top;\n",
       "    }\n",
       "\n",
       "    .dataframe thead th {\n",
       "        text-align: right;\n",
       "    }\n",
       "</style>\n",
       "<table border=\"1\" class=\"dataframe\">\n",
       "  <thead>\n",
       "    <tr style=\"text-align: right;\">\n",
       "      <th></th>\n",
       "      <th>misogyny_proportion</th>\n",
       "      <th>alcohol_counts</th>\n",
       "      <th>crime_counts</th>\n",
       "      <th>crime_proportion</th>\n",
       "    </tr>\n",
       "  </thead>\n",
       "  <tbody>\n",
       "    <tr>\n",
       "      <th>misogyny_proportion</th>\n",
       "      <td>1.000000</td>\n",
       "      <td>0.326170</td>\n",
       "      <td>-0.216416</td>\n",
       "      <td>0.441486</td>\n",
       "    </tr>\n",
       "    <tr>\n",
       "      <th>alcohol_counts</th>\n",
       "      <td>0.326170</td>\n",
       "      <td>1.000000</td>\n",
       "      <td>0.065419</td>\n",
       "      <td>0.770040</td>\n",
       "    </tr>\n",
       "    <tr>\n",
       "      <th>crime_counts</th>\n",
       "      <td>-0.216416</td>\n",
       "      <td>0.065419</td>\n",
       "      <td>1.000000</td>\n",
       "      <td>0.289340</td>\n",
       "    </tr>\n",
       "    <tr>\n",
       "      <th>crime_proportion</th>\n",
       "      <td>0.441486</td>\n",
       "      <td>0.770040</td>\n",
       "      <td>0.289340</td>\n",
       "      <td>1.000000</td>\n",
       "    </tr>\n",
       "  </tbody>\n",
       "</table>\n",
       "</div>"
      ],
      "text/plain": [
       "                     misogyny_proportion  alcohol_counts  crime_counts  \\\n",
       "misogyny_proportion             1.000000        0.326170     -0.216416   \n",
       "alcohol_counts                  0.326170        1.000000      0.065419   \n",
       "crime_counts                   -0.216416        0.065419      1.000000   \n",
       "crime_proportion                0.441486        0.770040      0.289340   \n",
       "\n",
       "                     crime_proportion  \n",
       "misogyny_proportion          0.441486  \n",
       "alcohol_counts               0.770040  \n",
       "crime_counts                 0.289340  \n",
       "crime_proportion             1.000000  "
      ]
     },
     "execution_count": 229,
     "metadata": {},
     "output_type": "execute_result"
    }
   ],
   "source": [
    "corr = data.corr() #reference correlation\n",
    "corr"
   ]
  },
  {
   "cell_type": "markdown",
   "id": "6208f98b",
   "metadata": {},
   "source": [
    "# Alcohol vs Crime"
   ]
  },
  {
   "cell_type": "markdown",
   "id": "f415a3a1",
   "metadata": {},
   "source": [
    "## 1. Calculate Mutual information"
   ]
  },
  {
   "cell_type": "code",
   "execution_count": 212,
   "id": "c4d686b6",
   "metadata": {},
   "outputs": [
    {
     "data": {
      "image/png": "[encoded data removed]",
      "text/plain": [
       "<Figure size 432x288 with 2 Axes>"
      ]
     },
     "metadata": {
      "needs_background": "light"
     },
     "output_type": "display_data"
    }
   ],
   "source": [
    "e1 = ccm.Embed(x1_alcohol)\n",
    "e2 = ccm.Embed(x2_crime)\n",
    "\n",
    "mi1 = e1.mutual_information(10)\n",
    "mi2 = e2.mutual_information(10)\n",
    "\n",
    "fig,ax = plt.subplots(nrows=2,sharex=True,sharey=True)\n",
    "ax[0].plot(np.arange(1,11),mi1)\n",
    "ax[1].plot(np.arange(1,11),mi2)\n",
    "ax[1].set_xlabel('Lag')\n",
    "sns.despine()"
   ]
  },
  {
   "cell_type": "markdown",
   "id": "85bc3d8e",
   "metadata": {},
   "source": [
    "## 2. Embed the time series"
   ]
  },
  {
   "cell_type": "code",
   "execution_count": 213,
   "id": "24556119",
   "metadata": {},
   "outputs": [
    {
     "data": {
      "image/png": "[encoded data removed]",
      "text/plain": [
       "<Figure size 432x288 with 1 Axes>"
      ]
     },
     "metadata": {
      "needs_background": "light"
     },
     "output_type": "display_data"
    },
    {
     "name": "stdout",
     "output_type": "stream",
     "text": [
      "FNN embedding Dimension 2:  3\n"
     ]
    }
   ],
   "source": [
    "lag = 2\n",
    "perc_FNN2, embed = FNN_n(x2, lag, plotting = True)\n",
    "print('FNN embedding Dimension 2: ',embed)\n",
    "X1 = e1.embed_vectors_1d(lag,embed)\n",
    "X2 = e2.embed_vectors_1d(lag,embed)"
   ]
  },
  {
   "cell_type": "code",
   "execution_count": 209,
   "id": "21ee1dcf",
   "metadata": {},
   "outputs": [
    {
     "data": {
      "image/png": "[encoded data removed]",
      "text/plain": [
       "<Figure size 1440x288 with 2 Axes>"
      ]
     },
     "metadata": {
      "needs_background": "light"
     },
     "output_type": "display_data"
    }
   ],
   "source": [
    "fig,ax = plt.subplots(ncols=2,sharey=True,sharex=True,figsize=(20,4)) \n",
    "ax[0].scatter(X1[:,0],X1[:,1])\n",
    "ax[1].scatter(X2[:,0],X2[:,1])\n",
    "ax[0].set_xlabel('X1(t)')\n",
    "ax[0].set_ylabel('X1(t-1)')\n",
    "ax[1].set_xlabel('X2(t)')\n",
    "ax[1].set_ylabel('X2(t-1)')\n",
    "sns.despine()"
   ]
  },
  {
   "cell_type": "markdown",
   "id": "f082f943",
   "metadata": {},
   "source": [
    "## 3. Forecast skill as a function of library length"
   ]
  },
  {
   "cell_type": "code",
   "execution_count": 210,
   "id": "4612a6e3",
   "metadata": {},
   "outputs": [],
   "source": [
    "#split the embedded time series\n",
    "x1tr, x1te, x2tr, x2te = train_test_split(X1,X2, percent=.75)\n",
    "\n",
    "CCM = ccm.CCM() #initiate the class\n",
    "\n",
    "#library lengths to test\n",
    "len_tr = len(x1tr)\n",
    "lib_lens = np.arange(10, len_tr, len_tr/20, dtype='int')\n",
    "\n",
    "#test causation\n",
    "CCM.fit(x1tr,x2tr)\n",
    "x1p, x2p = CCM.predict(x1te, x2te,lib_lengths=lib_lens)\n",
    "\n",
    "sc1,sc2 = CCM.score()"
   ]
  },
  {
   "cell_type": "code",
   "execution_count": 211,
   "id": "1ce7ab69",
   "metadata": {},
   "outputs": [
    {
     "data": {
      "image/png": "[encoded data removed]",
      "text/plain": [
       "<Figure size 432x288 with 1 Axes>"
      ]
     },
     "metadata": {
      "needs_background": "light"
     },
     "output_type": "display_data"
    }
   ],
   "source": [
    "fig,ax = plt.subplots()\n",
    "ax.plot(lib_lens,sc1,label='X1 xmap X2', color='blue') # alcohol predict crime\n",
    "ax.plot(lib_lens,sc2, label='X2 xmap X1', color='red') # crime predict alcohol\n",
    "ax.set_xlabel('Library Length')\n",
    "ax.set_ylabel('Forecast Skill')\n",
    "sns.despine()"
   ]
  },
  {
   "cell_type": "markdown",
   "id": "064fde2f",
   "metadata": {},
   "source": [
    "# Tweets vs Crime"
   ]
  },
  {
   "cell_type": "markdown",
   "id": "ea9056a7",
   "metadata": {},
   "source": [
    "## 1. Calculate Mutual information"
   ]
  },
  {
   "cell_type": "code",
   "execution_count": 218,
   "id": "3f485c7a",
   "metadata": {},
   "outputs": [
    {
     "data": {
      "image/png": "[encoded data removed]",
      "text/plain": [
       "<Figure size 432x288 with 2 Axes>"
      ]
     },
     "metadata": {
      "needs_background": "light"
     },
     "output_type": "display_data"
    }
   ],
   "source": [
    "e3 = ccm.Embed(x3_tweets)\n",
    "e2 = ccm.Embed(x2_crime)\n",
    "\n",
    "mi3 = e3.mutual_information(10)\n",
    "mi2 = e2.mutual_information(10)\n",
    "\n",
    "fig,ax = plt.subplots(nrows=2,sharex=True,sharey=True)\n",
    "ax[0].plot(np.arange(1,11),mi3)\n",
    "ax[1].plot(np.arange(1,11),mi2)\n",
    "ax[1].set_xlabel('Lag')\n",
    "sns.despine()"
   ]
  },
  {
   "cell_type": "markdown",
   "id": "f217e552",
   "metadata": {},
   "source": [
    "## 2. Embed the time series"
   ]
  },
  {
   "cell_type": "code",
   "execution_count": 223,
   "id": "5ee4f986",
   "metadata": {},
   "outputs": [
    {
     "data": {
      "image/png": "[encoded data removed]",
      "text/plain": [
       "<Figure size 432x288 with 1 Axes>"
      ]
     },
     "metadata": {
      "needs_background": "light"
     },
     "output_type": "display_data"
    },
    {
     "name": "stdout",
     "output_type": "stream",
     "text": [
      "FNN embedding Dimension 2:  2\n"
     ]
    }
   ],
   "source": [
    "lag = 6\n",
    "perc_FNN2, embed = FNN_n(x2, lag, plotting = True)\n",
    "print('FNN embedding Dimension 2: ',embed)\n",
    "X3 = e3.embed_vectors_1d(lag,embed)\n",
    "X2 = e2.embed_vectors_1d(lag,embed)"
   ]
  },
  {
   "cell_type": "code",
   "execution_count": 224,
   "id": "591a5113",
   "metadata": {},
   "outputs": [
    {
     "data": {
      "image/png": "[encoded data removed]",
      "text/plain": [
       "<Figure size 1440x288 with 2 Axes>"
      ]
     },
     "metadata": {
      "needs_background": "light"
     },
     "output_type": "display_data"
    }
   ],
   "source": [
    "fig,ax = plt.subplots(ncols=2,sharey=True,sharex=True,figsize=(20,4)) \n",
    "ax[0].scatter(X3[:,0],X3[:,1])\n",
    "ax[1].scatter(X2[:,0],X2[:,1])\n",
    "ax[0].set_xlabel('X3(t)')\n",
    "ax[0].set_ylabel('X3(t-1)')\n",
    "ax[1].set_xlabel('X2(t)')\n",
    "ax[1].set_ylabel('X2(t-1)')\n",
    "sns.despine()"
   ]
  },
  {
   "cell_type": "markdown",
   "id": "3b6aa749",
   "metadata": {},
   "source": [
    "## 3. Forecast skill as a function of library length"
   ]
  },
  {
   "cell_type": "code",
   "execution_count": 225,
   "id": "ba260a84",
   "metadata": {},
   "outputs": [],
   "source": [
    "#split the embedded time series\n",
    "x3tr, x3te, x2tr, x2te = train_test_split(X3,X2, percent=.75)\n",
    "\n",
    "CCM = ccm.CCM() #initiate the class\n",
    "\n",
    "#library lengths to test\n",
    "len_tr = len(x1tr)\n",
    "lib_lens = np.arange(10, len_tr, len_tr/20, dtype='int')\n",
    "\n",
    "#test causation\n",
    "CCM.fit(x3tr,x2tr)\n",
    "x3p, x2p = CCM.predict(x3te, x2te,lib_lengths=lib_lens)\n",
    "\n",
    "sc3,sc2 = CCM.score()"
   ]
  },
  {
   "cell_type": "code",
   "execution_count": 226,
   "id": "0c48c696",
   "metadata": {},
   "outputs": [
    {
     "data": {
      "image/png": "[encoded data removed]",
      "text/plain": [
       "<Figure size 432x288 with 1 Axes>"
      ]
     },
     "metadata": {
      "needs_background": "light"
     },
     "output_type": "display_data"
    }
   ],
   "source": [
    "fig,ax = plt.subplots()\n",
    "ax.plot(lib_lens,sc3,label='X3 xmap X2', color='blue') # tweet predict crime\n",
    "ax.plot(lib_lens,sc2, label='X2 xmap X3', color='red') # crime predict tweet\n",
    "ax.set_xlabel('Library Length')\n",
    "ax.set_ylabel('Forecast Skill')\n",
    "sns.despine()"
   ]
  },
  {
   "cell_type": "code",
   "execution_count": null,
   "id": "29634eff",
   "metadata": {},
   "outputs": [],
   "source": []
  }
 ],
 "metadata": {
  "kernelspec": {
   "display_name": "Python 3 (ipykernel)",
   "language": "python",
   "name": "python3"
  },
  "language_info": {
   "codemirror_mode": {
    "name": "ipython",
    "version": 3
   },
   "file_extension": ".py",
   "mimetype": "text/x-python",
   "name": "python",
   "nbconvert_exporter": "python",
   "pygments_lexer": "ipython3",
   "version": "3.9.7"
  }
 },
 "nbformat": 4,
 "nbformat_minor": 5
}
