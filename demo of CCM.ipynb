{
 "cells": [
  {
   "cell_type": "markdown",
   "id": "81c32c50",
   "metadata": {},
   "source": [
    "# Fit Convergent Cross Mapping Model to Data Sets"
   ]
  },
  {
   "cell_type": "code",
   "execution_count": 1,
   "id": "85e2b8c3",
   "metadata": {},
   "outputs": [],
   "source": [
    "import pandas as pd\n",
    "import numpy as np\n",
    "import skccm as ccm\n",
    "import matplotlib.pyplot as plt\n",
    "import seaborn as sns\n",
    "from skccm.utilities import train_test_split\n",
    "from teaspoon.parameter_selection.FNN_n import FNN_n"
   ]
  },
  {
   "cell_type": "code",
   "execution_count": 6,
   "id": "b165d00c",
   "metadata": {},
   "outputs": [
    {
     "data": {
      "text/html": [
       "<div>\n",
       "<style scoped>\n",
       "    .dataframe tbody tr th:only-of-type {\n",
       "        vertical-align: middle;\n",
       "    }\n",
       "\n",
       "    .dataframe tbody tr th {\n",
       "        vertical-align: top;\n",
       "    }\n",
       "\n",
       "    .dataframe thead th {\n",
       "        text-align: right;\n",
       "    }\n",
       "</style>\n",
       "<table border=\"1\" class=\"dataframe\">\n",
       "  <thead>\n",
       "    <tr style=\"text-align: right;\">\n",
       "      <th></th>\n",
       "      <th></th>\n",
       "      <th>nTweets_x</th>\n",
       "      <th>nTweets_y</th>\n",
       "      <th>misogyny_proportion</th>\n",
       "      <th>avg_alcohol</th>\n",
       "      <th>population</th>\n",
       "      <th>actual_rape_total</th>\n",
       "      <th>crime_proportion</th>\n",
       "    </tr>\n",
       "    <tr>\n",
       "      <th>year</th>\n",
       "      <th>month</th>\n",
       "      <th></th>\n",
       "      <th></th>\n",
       "      <th></th>\n",
       "      <th></th>\n",
       "      <th></th>\n",
       "      <th></th>\n",
       "      <th></th>\n",
       "    </tr>\n",
       "  </thead>\n",
       "  <tbody>\n",
       "    <tr>\n",
       "      <th rowspan=\"5\" valign=\"top\">2012</th>\n",
       "      <th>1</th>\n",
       "      <td>2.362945e+06</td>\n",
       "      <td>83.864846</td>\n",
       "      <td>0.000035</td>\n",
       "      <td>19245.99</td>\n",
       "      <td>303850396</td>\n",
       "      <td>5989</td>\n",
       "      <td>0.000020</td>\n",
       "    </tr>\n",
       "    <tr>\n",
       "      <th>2</th>\n",
       "      <td>3.864848e+06</td>\n",
       "      <td>147.983007</td>\n",
       "      <td>0.000038</td>\n",
       "      <td>19245.99</td>\n",
       "      <td>303850396</td>\n",
       "      <td>5496</td>\n",
       "      <td>0.000018</td>\n",
       "    </tr>\n",
       "    <tr>\n",
       "      <th>3</th>\n",
       "      <td>4.873085e+06</td>\n",
       "      <td>213.360294</td>\n",
       "      <td>0.000044</td>\n",
       "      <td>19245.99</td>\n",
       "      <td>303850396</td>\n",
       "      <td>6413</td>\n",
       "      <td>0.000021</td>\n",
       "    </tr>\n",
       "    <tr>\n",
       "      <th>4</th>\n",
       "      <td>3.587183e+06</td>\n",
       "      <td>181.793137</td>\n",
       "      <td>0.000051</td>\n",
       "      <td>19245.99</td>\n",
       "      <td>303850396</td>\n",
       "      <td>5962</td>\n",
       "      <td>0.000020</td>\n",
       "    </tr>\n",
       "    <tr>\n",
       "      <th>5</th>\n",
       "      <td>2.705863e+06</td>\n",
       "      <td>123.392647</td>\n",
       "      <td>0.000046</td>\n",
       "      <td>19245.99</td>\n",
       "      <td>303850396</td>\n",
       "      <td>6238</td>\n",
       "      <td>0.000021</td>\n",
       "    </tr>\n",
       "    <tr>\n",
       "      <th>...</th>\n",
       "      <th>...</th>\n",
       "      <td>...</td>\n",
       "      <td>...</td>\n",
       "      <td>...</td>\n",
       "      <td>...</td>\n",
       "      <td>...</td>\n",
       "      <td>...</td>\n",
       "      <td>...</td>\n",
       "    </tr>\n",
       "    <tr>\n",
       "      <th rowspan=\"5\" valign=\"top\">2020</th>\n",
       "      <th>8</th>\n",
       "      <td>5.574891e+06</td>\n",
       "      <td>76.636561</td>\n",
       "      <td>0.000014</td>\n",
       "      <td>288.57</td>\n",
       "      <td>318729855</td>\n",
       "      <td>9553</td>\n",
       "      <td>0.000030</td>\n",
       "    </tr>\n",
       "    <tr>\n",
       "      <th>9</th>\n",
       "      <td>5.447545e+06</td>\n",
       "      <td>75.272099</td>\n",
       "      <td>0.000014</td>\n",
       "      <td>288.57</td>\n",
       "      <td>318729855</td>\n",
       "      <td>9070</td>\n",
       "      <td>0.000028</td>\n",
       "    </tr>\n",
       "    <tr>\n",
       "      <th>10</th>\n",
       "      <td>5.671452e+06</td>\n",
       "      <td>79.074303</td>\n",
       "      <td>0.000014</td>\n",
       "      <td>288.57</td>\n",
       "      <td>318729855</td>\n",
       "      <td>8585</td>\n",
       "      <td>0.000027</td>\n",
       "    </tr>\n",
       "    <tr>\n",
       "      <th>11</th>\n",
       "      <td>5.713546e+06</td>\n",
       "      <td>68.126507</td>\n",
       "      <td>0.000012</td>\n",
       "      <td>288.57</td>\n",
       "      <td>318729855</td>\n",
       "      <td>7681</td>\n",
       "      <td>0.000024</td>\n",
       "    </tr>\n",
       "    <tr>\n",
       "      <th>12</th>\n",
       "      <td>5.294564e+06</td>\n",
       "      <td>69.067601</td>\n",
       "      <td>0.000013</td>\n",
       "      <td>288.57</td>\n",
       "      <td>318729855</td>\n",
       "      <td>14338</td>\n",
       "      <td>0.000045</td>\n",
       "    </tr>\n",
       "  </tbody>\n",
       "</table>\n",
       "<p>108 rows × 7 columns</p>\n",
       "</div>"
      ],
      "text/plain": [
       "               nTweets_x   nTweets_y  misogyny_proportion  avg_alcohol  \\\n",
       "year month                                                               \n",
       "2012 1      2.362945e+06   83.864846             0.000035     19245.99   \n",
       "     2      3.864848e+06  147.983007             0.000038     19245.99   \n",
       "     3      4.873085e+06  213.360294             0.000044     19245.99   \n",
       "     4      3.587183e+06  181.793137             0.000051     19245.99   \n",
       "     5      2.705863e+06  123.392647             0.000046     19245.99   \n",
       "...                  ...         ...                  ...          ...   \n",
       "2020 8      5.574891e+06   76.636561             0.000014       288.57   \n",
       "     9      5.447545e+06   75.272099             0.000014       288.57   \n",
       "     10     5.671452e+06   79.074303             0.000014       288.57   \n",
       "     11     5.713546e+06   68.126507             0.000012       288.57   \n",
       "     12     5.294564e+06   69.067601             0.000013       288.57   \n",
       "\n",
       "            population  actual_rape_total  crime_proportion  \n",
       "year month                                                   \n",
       "2012 1       303850396               5989          0.000020  \n",
       "     2       303850396               5496          0.000018  \n",
       "     3       303850396               6413          0.000021  \n",
       "     4       303850396               5962          0.000020  \n",
       "     5       303850396               6238          0.000021  \n",
       "...                ...                ...               ...  \n",
       "2020 8       318729855               9553          0.000030  \n",
       "     9       318729855               9070          0.000028  \n",
       "     10      318729855               8585          0.000027  \n",
       "     11      318729855               7681          0.000024  \n",
       "     12      318729855              14338          0.000045  \n",
       "\n",
       "[108 rows x 7 columns]"
      ]
     },
     "execution_count": 6,
     "metadata": {},
     "output_type": "execute_result"
    }
   ],
   "source": [
    "data = pd.read_csv('./data/merged_data.csv',index_col=0)\n",
    "data = data.sort_values(by=['year','month'],ascending=[True, True])\n",
    "#data = data[data['USstate']=='ny']\n",
    "data = data.groupby(['year','month']).sum()\n",
    "data['misogyny_proportion'] = data['nTweets_y'] / data['nTweets_x']\n",
    "data['crime_proportion'] = data['actual_rape_total'] / data['population']\n",
    "data"
   ]
  },
  {
   "cell_type": "markdown",
   "id": "7379c2b7",
   "metadata": {},
   "source": [
    "## 0. Extract data"
   ]
  },
  {
   "cell_type": "code",
   "execution_count": 7,
   "id": "bbc0e3a9",
   "metadata": {},
   "outputs": [],
   "source": [
    "x1_alcohol = data['avg_alcohol'].to_numpy()\n",
    "x2_crime = data['crime_proportion'].to_numpy()\n",
    "x3_tweets = data['misogyny_proportion'].to_numpy()"
   ]
  },
  {
   "cell_type": "code",
   "execution_count": 8,
   "id": "4d2d83cf",
   "metadata": {},
   "outputs": [
    {
     "data": {
      "text/html": [
       "<div>\n",
       "<style scoped>\n",
       "    .dataframe tbody tr th:only-of-type {\n",
       "        vertical-align: middle;\n",
       "    }\n",
       "\n",
       "    .dataframe tbody tr th {\n",
       "        vertical-align: top;\n",
       "    }\n",
       "\n",
       "    .dataframe thead th {\n",
       "        text-align: right;\n",
       "    }\n",
       "</style>\n",
       "<table border=\"1\" class=\"dataframe\">\n",
       "  <thead>\n",
       "    <tr style=\"text-align: right;\">\n",
       "      <th></th>\n",
       "      <th>nTweets_x</th>\n",
       "      <th>nTweets_y</th>\n",
       "      <th>misogyny_proportion</th>\n",
       "      <th>avg_alcohol</th>\n",
       "      <th>population</th>\n",
       "      <th>actual_rape_total</th>\n",
       "      <th>crime_proportion</th>\n",
       "    </tr>\n",
       "  </thead>\n",
       "  <tbody>\n",
       "    <tr>\n",
       "      <th>nTweets_x</th>\n",
       "      <td>1.000000</td>\n",
       "      <td>0.588190</td>\n",
       "      <td>-0.160257</td>\n",
       "      <td>0.053531</td>\n",
       "      <td>-0.240633</td>\n",
       "      <td>-0.142129</td>\n",
       "      <td>-0.131759</td>\n",
       "    </tr>\n",
       "    <tr>\n",
       "      <th>nTweets_y</th>\n",
       "      <td>0.588190</td>\n",
       "      <td>1.000000</td>\n",
       "      <td>0.685179</td>\n",
       "      <td>0.268174</td>\n",
       "      <td>-0.553855</td>\n",
       "      <td>-0.340852</td>\n",
       "      <td>-0.317720</td>\n",
       "    </tr>\n",
       "    <tr>\n",
       "      <th>misogyny_proportion</th>\n",
       "      <td>-0.160257</td>\n",
       "      <td>0.685179</td>\n",
       "      <td>1.000000</td>\n",
       "      <td>0.255729</td>\n",
       "      <td>-0.452873</td>\n",
       "      <td>-0.276632</td>\n",
       "      <td>-0.258058</td>\n",
       "    </tr>\n",
       "    <tr>\n",
       "      <th>avg_alcohol</th>\n",
       "      <td>0.053531</td>\n",
       "      <td>0.268174</td>\n",
       "      <td>0.255729</td>\n",
       "      <td>1.000000</td>\n",
       "      <td>-0.833571</td>\n",
       "      <td>-0.406609</td>\n",
       "      <td>-0.361788</td>\n",
       "    </tr>\n",
       "    <tr>\n",
       "      <th>population</th>\n",
       "      <td>-0.240633</td>\n",
       "      <td>-0.553855</td>\n",
       "      <td>-0.452873</td>\n",
       "      <td>-0.833571</td>\n",
       "      <td>1.000000</td>\n",
       "      <td>0.554614</td>\n",
       "      <td>0.507391</td>\n",
       "    </tr>\n",
       "    <tr>\n",
       "      <th>actual_rape_total</th>\n",
       "      <td>-0.142129</td>\n",
       "      <td>-0.340852</td>\n",
       "      <td>-0.276632</td>\n",
       "      <td>-0.406609</td>\n",
       "      <td>0.554614</td>\n",
       "      <td>1.000000</td>\n",
       "      <td>0.998341</td>\n",
       "    </tr>\n",
       "    <tr>\n",
       "      <th>crime_proportion</th>\n",
       "      <td>-0.131759</td>\n",
       "      <td>-0.317720</td>\n",
       "      <td>-0.258058</td>\n",
       "      <td>-0.361788</td>\n",
       "      <td>0.507391</td>\n",
       "      <td>0.998341</td>\n",
       "      <td>1.000000</td>\n",
       "    </tr>\n",
       "  </tbody>\n",
       "</table>\n",
       "</div>"
      ],
      "text/plain": [
       "                     nTweets_x  nTweets_y  misogyny_proportion  avg_alcohol  \\\n",
       "nTweets_x             1.000000   0.588190            -0.160257     0.053531   \n",
       "nTweets_y             0.588190   1.000000             0.685179     0.268174   \n",
       "misogyny_proportion  -0.160257   0.685179             1.000000     0.255729   \n",
       "avg_alcohol           0.053531   0.268174             0.255729     1.000000   \n",
       "population           -0.240633  -0.553855            -0.452873    -0.833571   \n",
       "actual_rape_total    -0.142129  -0.340852            -0.276632    -0.406609   \n",
       "crime_proportion     -0.131759  -0.317720            -0.258058    -0.361788   \n",
       "\n",
       "                     population  actual_rape_total  crime_proportion  \n",
       "nTweets_x             -0.240633          -0.142129         -0.131759  \n",
       "nTweets_y             -0.553855          -0.340852         -0.317720  \n",
       "misogyny_proportion   -0.452873          -0.276632         -0.258058  \n",
       "avg_alcohol           -0.833571          -0.406609         -0.361788  \n",
       "population             1.000000           0.554614          0.507391  \n",
       "actual_rape_total      0.554614           1.000000          0.998341  \n",
       "crime_proportion       0.507391           0.998341          1.000000  "
      ]
     },
     "execution_count": 8,
     "metadata": {},
     "output_type": "execute_result"
    }
   ],
   "source": [
    "corr = data.corr() #reference correlation\n",
    "corr"
   ]
  },
  {
   "cell_type": "markdown",
   "id": "6208f98b",
   "metadata": {},
   "source": [
    "# Alcohol vs Crime"
   ]
  },
  {
   "cell_type": "markdown",
   "id": "f415a3a1",
   "metadata": {},
   "source": [
    "## 1. Calculate Mutual information"
   ]
  },
  {
   "cell_type": "code",
   "execution_count": 9,
   "id": "c4d686b6",
   "metadata": {},
   "outputs": [
    {
     "data": {
      "image/png": "[encoded data removed]",
      "text/plain": [
       "<Figure size 432x288 with 2 Axes>"
      ]
     },
     "metadata": {
      "needs_background": "light"
     },
     "output_type": "display_data"
    }
   ],
   "source": [
    "e1 = ccm.Embed(x1_alcohol)\n",
    "e2 = ccm.Embed(x2_crime)\n",
    "\n",
    "mi1 = e1.mutual_information(10)\n",
    "mi2 = e2.mutual_information(10)\n",
    "\n",
    "fig,ax = plt.subplots(nrows=2,sharex=True,sharey=True)\n",
    "ax[0].plot(np.arange(1,11),mi1)\n",
    "ax[1].plot(np.arange(1,11),mi2)\n",
    "ax[1].set_xlabel('Lag')\n",
    "sns.despine()"
   ]
  },
  {
   "cell_type": "markdown",
   "id": "85bc3d8e",
   "metadata": {},
   "source": [
    "## 2. Embed the time series"
   ]
  },
  {
   "cell_type": "code",
   "execution_count": 10,
   "id": "24556119",
   "metadata": {},
   "outputs": [
    {
     "data": {
      "image/png": "[encoded data removed]",
      "text/plain": [
       "<Figure size 432x288 with 1 Axes>"
      ]
     },
     "metadata": {
      "needs_background": "light"
     },
     "output_type": "display_data"
    },
    {
     "name": "stdout",
     "output_type": "stream",
     "text": [
      "FNN embedding Dimension:  2\n"
     ]
    }
   ],
   "source": [
    "lag = 1\n",
    "\n",
    "perc_FNN, embed = FNN_n(x2_crime, lag, plotting = True)\n",
    "print('FNN embedding Dimension: ',embed)\n",
    "X1 = e1.embed_vectors_1d(lag,embed)\n",
    "X2 = e2.embed_vectors_1d(lag,embed)"
   ]
  },
  {
   "cell_type": "code",
   "execution_count": 11,
   "id": "21ee1dcf",
   "metadata": {},
   "outputs": [
    {
     "data": {
      "image/png": "[encoded data removed]",
      "text/plain": [
       "<Figure size 1440x288 with 2 Axes>"
      ]
     },
     "metadata": {
      "needs_background": "light"
     },
     "output_type": "display_data"
    }
   ],
   "source": [
    "fig,ax = plt.subplots(ncols=2,sharey=True,sharex=True,figsize=(20,4)) \n",
    "ax[0].scatter(X1[:,0],X1[:,1])\n",
    "ax[1].scatter(X2[:,0],X2[:,1])\n",
    "ax[0].set_xlabel('X1(t)')\n",
    "ax[0].set_ylabel('X1(t-1)')\n",
    "ax[1].set_xlabel('X2(t)')\n",
    "ax[1].set_ylabel('X2(t-1)')\n",
    "sns.despine()"
   ]
  },
  {
   "cell_type": "markdown",
   "id": "f082f943",
   "metadata": {},
   "source": [
    "## 3. Forecast skill as a function of library length"
   ]
  },
  {
   "cell_type": "code",
   "execution_count": 12,
   "id": "4612a6e3",
   "metadata": {},
   "outputs": [
    {
     "name": "stderr",
     "output_type": "stream",
     "text": [
      "/opt/anaconda3/lib/python3.9/site-packages/numpy/lib/function_base.py:2642: RuntimeWarning: invalid value encountered in true_divide\n",
      "  c /= stddev[:, None]\n",
      "/opt/anaconda3/lib/python3.9/site-packages/numpy/lib/function_base.py:2643: RuntimeWarning: invalid value encountered in true_divide\n",
      "  c /= stddev[None, :]\n"
     ]
    }
   ],
   "source": [
    "#split the embedded time series\n",
    "x1tr, x1te, x2tr, x2te = train_test_split(X1,X2, percent=.75)\n",
    "\n",
    "CCM = ccm.CCM() #initiate the class\n",
    "\n",
    "#library lengths to test\n",
    "len_tr = len(x1tr)\n",
    "lib_lens = np.arange(10, len_tr, len_tr/20, dtype='int')\n",
    "\n",
    "#test causation\n",
    "CCM.fit(x1tr,x2tr)\n",
    "x1p, x2p = CCM.predict(x1te, x2te,lib_lengths=lib_lens)\n",
    "\n",
    "sc1,sc2 = CCM.score()"
   ]
  },
  {
   "cell_type": "code",
   "execution_count": 13,
   "id": "1ce7ab69",
   "metadata": {},
   "outputs": [
    {
     "data": {
      "image/png": "[encoded data removed]",
      "text/plain": [
       "<Figure size 432x288 with 1 Axes>"
      ]
     },
     "metadata": {
      "needs_background": "light"
     },
     "output_type": "display_data"
    }
   ],
   "source": [
    "fig,ax = plt.subplots()\n",
    "ax.plot(lib_lens,sc1,label='X1 xmap X2', color='blue') # alcohol predict crime\n",
    "ax.plot(lib_lens,sc2, label='X2 xmap X1', color='red') # crime predict alcohol\n",
    "ax.set_xlabel('Library Length')\n",
    "ax.set_ylabel('Forecast Skill')\n",
    "sns.despine()"
   ]
  },
  {
   "cell_type": "markdown",
   "id": "064fde2f",
   "metadata": {},
   "source": [
    "# Tweets vs Crime"
   ]
  },
  {
   "cell_type": "markdown",
   "id": "ea9056a7",
   "metadata": {},
   "source": [
    "## 1. Calculate Mutual information"
   ]
  },
  {
   "cell_type": "code",
   "execution_count": 14,
   "id": "3f485c7a",
   "metadata": {},
   "outputs": [
    {
     "data": {
      "image/png": "[encoded data removed]",
      "text/plain": [
       "<Figure size 432x288 with 2 Axes>"
      ]
     },
     "metadata": {
      "needs_background": "light"
     },
     "output_type": "display_data"
    }
   ],
   "source": [
    "e3 = ccm.Embed(x3_tweets)\n",
    "e2 = ccm.Embed(x2_crime)\n",
    "\n",
    "mi3 = e3.mutual_information(10)\n",
    "mi2 = e2.mutual_information(10)\n",
    "\n",
    "fig,ax = plt.subplots(nrows=2,sharex=True,sharey=True)\n",
    "ax[0].plot(np.arange(1,11),mi3)\n",
    "ax[1].plot(np.arange(1,11),mi2)\n",
    "ax[1].set_xlabel('Lag')\n",
    "sns.despine()"
   ]
  },
  {
   "cell_type": "markdown",
   "id": "f217e552",
   "metadata": {},
   "source": [
    "## 2. Embed the time series"
   ]
  },
  {
   "cell_type": "code",
   "execution_count": 15,
   "id": "5ee4f986",
   "metadata": {},
   "outputs": [
    {
     "data": {
      "image/png": "[encoded data removed]",
      "text/plain": [
       "<Figure size 432x288 with 1 Axes>"
      ]
     },
     "metadata": {
      "needs_background": "light"
     },
     "output_type": "display_data"
    },
    {
     "name": "stdout",
     "output_type": "stream",
     "text": [
      "FNN embedding Dimension 2:  2\n"
     ]
    }
   ],
   "source": [
    "lag = 1\n",
    "perc_FNN2, embed = FNN_n(x2_crime, lag, plotting = True)\n",
    "print('FNN embedding Dimension 2: ',embed)\n",
    "X3 = e3.embed_vectors_1d(lag,embed)\n",
    "X2 = e2.embed_vectors_1d(lag,embed)"
   ]
  },
  {
   "cell_type": "code",
   "execution_count": 16,
   "id": "591a5113",
   "metadata": {},
   "outputs": [
    {
     "data": {
      "image/png": "[encoded data removed]",
      "text/plain": [
       "<Figure size 1440x288 with 2 Axes>"
      ]
     },
     "metadata": {
      "needs_background": "light"
     },
     "output_type": "display_data"
    }
   ],
   "source": [
    "fig,ax = plt.subplots(ncols=2,sharey=True,sharex=True,figsize=(20,4)) \n",
    "ax[0].scatter(X3[:,0],X3[:,1])\n",
    "ax[1].scatter(X2[:,0],X2[:,1])\n",
    "ax[0].set_xlabel('X3(t)')\n",
    "ax[0].set_ylabel('X3(t-1)')\n",
    "ax[1].set_xlabel('X2(t)')\n",
    "ax[1].set_ylabel('X2(t-1)')\n",
    "sns.despine()"
   ]
  },
  {
   "cell_type": "markdown",
   "id": "3b6aa749",
   "metadata": {},
   "source": [
    "## 3. Forecast skill as a function of library length"
   ]
  },
  {
   "cell_type": "code",
   "execution_count": 17,
   "id": "ba260a84",
   "metadata": {},
   "outputs": [],
   "source": [
    "#split the embedded time series\n",
    "x3tr, x3te, x2tr, x2te = train_test_split(X3,X2, percent=.75)\n",
    "\n",
    "CCM = ccm.CCM() #initiate the class\n",
    "\n",
    "#library lengths to test\n",
    "len_tr = len(x1tr)\n",
    "lib_lens = np.arange(10, len_tr, len_tr/20, dtype='int')\n",
    "\n",
    "#test causation\n",
    "CCM.fit(x3tr,x2tr)\n",
    "x3p, x2p = CCM.predict(x3te, x2te,lib_lengths=lib_lens)\n",
    "\n",
    "sc3,sc2 = CCM.score()"
   ]
  },
  {
   "cell_type": "code",
   "execution_count": 18,
   "id": "0c48c696",
   "metadata": {},
   "outputs": [
    {
     "data": {
      "image/png": "[encoded data removed]",
      "text/plain": [
       "<Figure size 432x288 with 1 Axes>"
      ]
     },
     "metadata": {
      "needs_background": "light"
     },
     "output_type": "display_data"
    }
   ],
   "source": [
    "fig,ax = plt.subplots()\n",
    "ax.plot(lib_lens,sc3,label='X3 xmap X2', color='blue') # tweet predict crime\n",
    "ax.plot(lib_lens,sc2, label='X2 xmap X3', color='red') # crime predict tweet\n",
    "ax.set_xlabel('Library Length')\n",
    "ax.set_ylabel('Forecast Skill')\n",
    "sns.despine()"
   ]
  },
  {
   "cell_type": "code",
   "execution_count": null,
   "id": "29634eff",
   "metadata": {},
   "outputs": [],
   "source": []
  },
  {
   "cell_type": "code",
   "execution_count": null,
   "id": "5975f0dd",
   "metadata": {},
   "outputs": [],
   "source": []
  }
 ],
 "metadata": {
  "kernelspec": {
   "display_name": "Python 3 (ipykernel)",
   "language": "python",
   "name": "python3"
  },
  "language_info": {
   "codemirror_mode": {
    "name": "ipython",
    "version": 3
   },
   "file_extension": ".py",
   "mimetype": "text/x-python",
   "name": "python",
   "nbconvert_exporter": "python",
   "pygments_lexer": "ipython3",
   "version": "3.9.7"
  }
 },
 "nbformat": 4,
 "nbformat_minor": 5
}
