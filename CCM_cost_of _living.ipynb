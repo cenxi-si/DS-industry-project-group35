{
 "cells": [
  {
   "cell_type": "markdown",
   "metadata": {},
   "source": [
    "# Fit Convergent Cross Mapping Model to Data Sets"
   ]
  },
  {
   "cell_type": "code",
   "execution_count": 2,
   "metadata": {},
   "outputs": [
    {
     "data": {
      "text/plain": [
       "{'divide': 'warn', 'over': 'warn', 'under': 'ignore', 'invalid': 'warn'}"
      ]
     },
     "execution_count": 2,
     "metadata": {},
     "output_type": "execute_result"
    }
   ],
   "source": [
    "import pandas as pd\n",
    "import numpy as np\n",
    "import skccm as ccm\n",
    "import matplotlib.pyplot as plt\n",
    "import seaborn as sns\n",
    "from skccm.utilities import train_test_split\n",
    "from teaspoon.parameter_selection.FNN_n import FNN_n\n",
    "\n",
    "np.seterr(divide='ignore', invalid='ignore')"
   ]
  },
  {
   "cell_type": "code",
   "execution_count": 4,
   "metadata": {},
   "outputs": [
    {
     "data": {
      "text/html": [
       "<div>\n",
       "<style scoped>\n",
       "    .dataframe tbody tr th:only-of-type {\n",
       "        vertical-align: middle;\n",
       "    }\n",
       "\n",
       "    .dataframe tbody tr th {\n",
       "        vertical-align: top;\n",
       "    }\n",
       "\n",
       "    .dataframe thead th {\n",
       "        text-align: right;\n",
       "    }\n",
       "</style>\n",
       "<table border=\"1\" class=\"dataframe\">\n",
       "  <thead>\n",
       "    <tr style=\"text-align: right;\">\n",
       "      <th></th>\n",
       "      <th>USstate</th>\n",
       "      <th>year</th>\n",
       "      <th>month</th>\n",
       "      <th>nTweets_x</th>\n",
       "      <th>nTweets_y</th>\n",
       "      <th>Number of establishments (ESTAB)</th>\n",
       "      <th>abbr</th>\n",
       "      <th>full</th>\n",
       "      <th>population</th>\n",
       "      <th>actual_rape_total</th>\n",
       "      <th>Temperature</th>\n",
       "      <th>Cost of Living Index</th>\n",
       "      <th>tweet_proportion</th>\n",
       "    </tr>\n",
       "  </thead>\n",
       "  <tbody>\n",
       "    <tr>\n",
       "      <th>0</th>\n",
       "      <td>al</td>\n",
       "      <td>2012</td>\n",
       "      <td>1</td>\n",
       "      <td>51744.00000</td>\n",
       "      <td>3.00</td>\n",
       "      <td>367.000000</td>\n",
       "      <td>al</td>\n",
       "      <td>Alabama</td>\n",
       "      <td>4834334</td>\n",
       "      <td>106</td>\n",
       "      <td>50.1</td>\n",
       "      <td>71.180000</td>\n",
       "      <td>0.000058</td>\n",
       "    </tr>\n",
       "    <tr>\n",
       "      <th>108</th>\n",
       "      <td>ak</td>\n",
       "      <td>2012</td>\n",
       "      <td>1</td>\n",
       "      <td>20125.60000</td>\n",
       "      <td>1.35</td>\n",
       "      <td>375.962006</td>\n",
       "      <td>ak</td>\n",
       "      <td>Alaska</td>\n",
       "      <td>735190</td>\n",
       "      <td>39</td>\n",
       "      <td>-12.8</td>\n",
       "      <td>77.304376</td>\n",
       "      <td>0.000067</td>\n",
       "    </tr>\n",
       "    <tr>\n",
       "      <th>216</th>\n",
       "      <td>az</td>\n",
       "      <td>2012</td>\n",
       "      <td>1</td>\n",
       "      <td>57016.09091</td>\n",
       "      <td>1.00</td>\n",
       "      <td>99.781590</td>\n",
       "      <td>az</td>\n",
       "      <td>Arizona</td>\n",
       "      <td>6572455</td>\n",
       "      <td>205</td>\n",
       "      <td>45.3</td>\n",
       "      <td>92.889410</td>\n",
       "      <td>0.000018</td>\n",
       "    </tr>\n",
       "    <tr>\n",
       "      <th>324</th>\n",
       "      <td>ar</td>\n",
       "      <td>2012</td>\n",
       "      <td>1</td>\n",
       "      <td>7733.00000</td>\n",
       "      <td>1.00</td>\n",
       "      <td>212.571483</td>\n",
       "      <td>ar</td>\n",
       "      <td>Arkansas</td>\n",
       "      <td>2981157</td>\n",
       "      <td>108</td>\n",
       "      <td>44.6</td>\n",
       "      <td>66.683538</td>\n",
       "      <td>0.000129</td>\n",
       "    </tr>\n",
       "    <tr>\n",
       "      <th>432</th>\n",
       "      <td>ca</td>\n",
       "      <td>2012</td>\n",
       "      <td>1</td>\n",
       "      <td>134228.00000</td>\n",
       "      <td>5.00</td>\n",
       "      <td>547.446496</td>\n",
       "      <td>ca</td>\n",
       "      <td>California</td>\n",
       "      <td>38183375</td>\n",
       "      <td>671</td>\n",
       "      <td>46.5</td>\n",
       "      <td>65.724957</td>\n",
       "      <td>0.000037</td>\n",
       "    </tr>\n",
       "  </tbody>\n",
       "</table>\n",
       "</div>"
      ],
      "text/plain": [
       "    USstate  year  month     nTweets_x  nTweets_y  \\\n",
       "0        al  2012      1   51744.00000       3.00   \n",
       "108      ak  2012      1   20125.60000       1.35   \n",
       "216      az  2012      1   57016.09091       1.00   \n",
       "324      ar  2012      1    7733.00000       1.00   \n",
       "432      ca  2012      1  134228.00000       5.00   \n",
       "\n",
       "     Number of establishments (ESTAB) abbr        full  population  \\\n",
       "0                          367.000000   al     Alabama     4834334   \n",
       "108                        375.962006   ak      Alaska      735190   \n",
       "216                         99.781590   az     Arizona     6572455   \n",
       "324                        212.571483   ar    Arkansas     2981157   \n",
       "432                        547.446496   ca  California    38183375   \n",
       "\n",
       "     actual_rape_total  Temperature  Cost of Living Index  tweet_proportion  \n",
       "0                  106         50.1             71.180000          0.000058  \n",
       "108                 39        -12.8             77.304376          0.000067  \n",
       "216                205         45.3             92.889410          0.000018  \n",
       "324                108         44.6             66.683538          0.000129  \n",
       "432                671         46.5             65.724957          0.000037  "
      ]
     },
     "execution_count": 4,
     "metadata": {},
     "output_type": "execute_result"
    }
   ],
   "source": [
    "# from 2012-2020 9 years in total, 12 months for each year\n",
    "merged_df = pd.read_csv('./data/merged_all_data.csv',index_col=0)\n",
    "mergeda_df = merged_df.sort_values(by=['year','month'],ascending=[True, True])\n",
    "mergeda_df.head()"
   ]
  },
  {
   "cell_type": "code",
   "execution_count": null,
   "metadata": {},
   "outputs": [],
   "source": []
  }
 ],
 "metadata": {
  "kernelspec": {
   "display_name": "Python 3.8.10 ('task')",
   "language": "python",
   "name": "python3"
  },
  "language_info": {
   "codemirror_mode": {
    "name": "ipython",
    "version": 3
   },
   "file_extension": ".py",
   "mimetype": "text/x-python",
   "name": "python",
   "nbconvert_exporter": "python",
   "pygments_lexer": "ipython3",
   "version": "3.8.10"
  },
  "orig_nbformat": 4,
  "vscode": {
   "interpreter": {
    "hash": "79c92b6c1e9ee52545dcec7e8421ec6facfe3a51e4e000c6e74d10e6b78e388f"
   }
  }
 },
 "nbformat": 4,
 "nbformat_minor": 2
}
